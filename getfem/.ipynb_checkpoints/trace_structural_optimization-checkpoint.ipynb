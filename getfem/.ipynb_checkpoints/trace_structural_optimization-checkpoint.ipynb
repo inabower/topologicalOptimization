{
 "cells": [
  {
   "cell_type": "code",
   "execution_count": 1,
   "metadata": {},
   "outputs": [],
   "source": [
    "import getfem as gf\n",
    "import numpy as np\n",
    "from scipy.sparse.linalg import cg\n",
    "import time"
   ]
  },
  {
   "cell_type": "markdown",
   "metadata": {},
   "source": [
    "% parameters\n",
    "\n",
    "TEST_CASE = 1 % 0 : 2D, initial holes, shape gradient only\n",
    "              % 1 : 2D, no initial hole, coupling with topological gradient\n",
    "              % 2 : 3D, initial holes, shape gradient only\n",
    "              % 3 : 3D, no initial hole, coupling with topological gradient"
   ]
  },
  {
   "cell_type": "code",
   "execution_count": 2,
   "metadata": {},
   "outputs": [],
   "source": [
    "TEST_CASE = 1\n",
    "if TEST_CASE == 0:\n",
    "    N = 2;\n",
    "    initial_holes = 1;\n",
    "elif TEST_CASE == 1:\n",
    "    N = 2;\n",
    "    initial_holes = 0;\n",
    "elif TEST_CASE == 2:\n",
    "    N = 3;\n",
    "    initial_holes = 1;\n",
    "elif TEST_CASE == 3:\n",
    "    N = 3;\n",
    "    initial_holes = 0;\n",
    "    \n",
    "k = 1;           #% Degree of the finite element method for u\n",
    "λ = 1;           #% Lame coefficient\n",
    "μ = 1;           #% Lame coefficient"
   ]
  },
  {
   "cell_type": "code",
   "execution_count": 3,
   "metadata": {},
   "outputs": [],
   "source": [
    "if N == 2:\n",
    "    NY = 80             # % Number of elements in y direction\n",
    "    level_set_rate = 0.4 / NY\n",
    "    reinitialisation_time = 0.005;\n",
    "    threshold_shape = 0.90;\n",
    "    if TEST_CASE == 1:\n",
    "        threshold_topo  = 1.3;\n",
    "    else:\n",
    "        threshold_topo  = 0;\n",
    "    penalty_param = 1e-6;\n",
    "    nbiter = 400;\n",
    "    NBDRAW = 20;            #% Draw solution each NBDRAW iterations\n",
    "else:\n",
    "    NY = 30\n",
    "    level_set_rate = 0.025 / NY;\n",
    "    reinitialisation_time = 0.0035;\n",
    "    threshold_shape = 28;\n",
    "    if TEST_CASE == 3:\n",
    "        threshold_topo = 30;\n",
    "    else:\n",
    "        threshold_topo = 0;\n",
    "    penalty_param = 1e-6;\n",
    "    nbiter = 600;\n",
    "    NBDRAW = 5;            #% Draw solution each NBDRAW iterations\n",
    "    \n",
    "hole_radius = max(0.03, 2./NY);  #% Hole radius for topological optimization\n",
    "ls_degree = 1;         #% Degree of the level-set. Should be one for the moment.\n",
    "DEBUG = False\n",
    "if DEBUG:\n",
    "    NG = 3;\n",
    "else:\n",
    "    NG = 2;"
   ]
  },
  {
   "cell_type": "code",
   "execution_count": 4,
   "metadata": {},
   "outputs": [],
   "source": [
    "#% Mesh definition\n",
    "#% m=gfMesh('cartesian', -1:(1/NY):1, -.5:(1/NY):.5);\n",
    "if (N == 2):\n",
    "    m=gf.Mesh('regular simplices', np.arange(-1.,1.+1./NY,1./NY), np.arange(-.5,.5+1./NY,1./NY))\n",
    "else:\n",
    "    m=gf.Mesh('regular simplices', np.arange(-1.,1.+1./NY,1./NY), np.arange(-.5,.5+1./NY,1./NY), np.arange(-.5,.5+1./NY,1./NY));\n",
    "pts =  m.pts()"
   ]
  },
  {
   "cell_type": "code",
   "execution_count": 5,
   "metadata": {},
   "outputs": [],
   "source": [
    "#% Find the boundary GammaD and GammaN\n",
    "pidleft = np.compress((abs(pts[0,:]+1.0)<1e-7), list(range(0, m.nbpts())))\n",
    "fidleft = m.faces_from_pid(pidleft)\n",
    "normals = m.normal_of_faces(fidleft)\n",
    "fidleft = fidleft[:, abs(normals[0,:]+1.0)<1e-3]\n",
    "GAMMAD = 2;\n",
    "m.set_region(GAMMAD, fidleft)\n",
    "\n",
    "pidright = np.compress((abs(pts[0,:]-1.0)<1e-7), list(range(0, m.nbpts())))\n",
    "fidright = m.faces_from_pid(pidright)\n",
    "normals = m.normal_of_faces(fidright)\n",
    "fidright = fidright[:, abs(normals[0,:]-1.0)<1e-3]\n",
    "GAMMAN = 3;\n",
    "m.set_region(GAMMAN, fidright)"
   ]
  },
  {
   "cell_type": "code",
   "execution_count": 6,
   "metadata": {},
   "outputs": [
    {
     "name": "stdout",
     "output_type": "stream",
     "text": [
      "There is 257922 elasticity dofs\n"
     ]
    }
   ],
   "source": [
    "#% Definition of the finite element methods\n",
    "ls  = gf.LevelSet(m, ls_degree)\n",
    "mls = gf.MeshLevelSet(m)\n",
    "mls.add(ls)\n",
    "mf_ls = ls.mf()\n",
    "if N==2:\n",
    "    mimls = gf.MeshIm(m, gf.Integ('IM_TRIANGLE(4)'))\n",
    "else:\n",
    "    mimls = gf.MeshIm(m, gf.Integ('IM_TETRAHEDRON(5)'))\n",
    "\n",
    "mf_basic = gf.MeshFem(m, N)\n",
    "mf_basic.set_fem(gf.Fem(f'FEM_PK({N},{k})'))\n",
    "\n",
    "mf_g = gf.MeshFem(m, 1)\n",
    "mf_g.set_fem(gf.Fem(f'FEM_PK_DISCONTINUOUS({N},{k-1})'))\n",
    "        \n",
    "mf_cont = gf.MeshFem(m, 1)\n",
    "mf_cont.set_fem(gf.Fem(f'FEM_PK({N},{ls_degree})'))\n",
    "\n",
    "print(f'There is {mf_basic.nbdof()} elasticity dofs')"
   ]
  },
  {
   "cell_type": "code",
   "execution_count": 6,
   "metadata": {},
   "outputs": [],
   "source": [
    "Mcont = gf.asm_mass_matrix(mimls, mf_cont)"
   ]
  },
  {
   "cell_type": "code",
   "execution_count": 10,
   "metadata": {},
   "outputs": [
    {
     "data": {
      "text/plain": [
       "\u001b[0;31mType:\u001b[0m           Spmat\n",
       "\u001b[0;31mString form:\u001b[0m   \n",
       "matrix(128961, 128961)\n",
       "           ( (r0, 0.000104167) (r1, 1.30208e-05) (r2, 1.30208e-05) (r3, 1.30208e-05)  <...>\n",
       "           ( (r128798, 1.30208e-05) (r128799, 6.51042e-06) (r128959, 6.51042e-06) (r128960, 2.60417e-05) )\n",
       "           \n",
       "\u001b[0;31mFile:\u001b[0m           ~/Applications/getfem-5.4/build/lib/python3.6/site-packages/getfem/getfem.py\n",
       "\u001b[0;31mDocstring:\u001b[0m     \n",
       "GetFEM Spmat object\n",
       "\n",
       "Create a new sparse matrix in GetFEM format. These sparse matrix can be stored as CSC (compressed column\n",
       "sparse), which is the format used by Matlab, or they can be stored as WSC\n",
       "(internal format to getfem). The CSC matrices are not writable (it would\n",
       "be very inefficient), but they are optimized for multiplication with\n",
       "vectors, and memory usage. The WSC are writable, they are very fast with\n",
       "respect to random read/write operation. However their memory overhead is\n",
       "higher than CSC matrices, and they are a little bit slower for\n",
       "matrix-vector multiplications.\n",
       "\n",
       "By default, all newly created matrices are build as WSC matrices. This can\n",
       "be changed later with ``Spmat.to_csc(...)``, or may be changed\n",
       "automatically by getfem (for example ``gf_linsolve()`` converts the\n",
       "matrices to CSC).\n",
       "\n",
       "The matrices may store REAL or COMPLEX values.\n",
       "\u001b[0;31mInit docstring:\u001b[0m\n",
       "General constructor for Spmat objects\n",
       "\n",
       "* ``SM = Spmat('empty', int m [, int n])``\n",
       "  Create a new empty (i.e. full of zeros) sparse matrix, of dimensions\n",
       "  `m x n`. If `n` is omitted, the matrix dimension is `m x m`.\n",
       "\n",
       "* ``SM = Spmat('copy', mat K [, list I [, list J]])``\n",
       "  Duplicate a matrix `K` (which might be a SpMat). If index `I` and/or `J` are given, the matrix will\n",
       "  be a submatrix of `K`. For example::\n",
       "  \n",
       "    \n",
       "    \n",
       "    m = Spmat('copy', Spmat('empty',50,50), range(40), [6, 7, 8, 3, 10])\n",
       "  \n",
       "  will return a 40x5 matrix.\n",
       "\n",
       "* ``SM = Spmat('identity', int n)``\n",
       "  Create a `n x n` identity matrix.\n",
       "\n",
       "* ``SM = Spmat('mult', Spmat A, Spmat B)``\n",
       "  Create a sparse matrix as the product of the sparse matrices `A` and\n",
       "  `B`. It requires that `A` and `B` be both real or both complex, you\n",
       "  may have to use ``Spmat.to_complex()``\n",
       "\n",
       "* ``SM = Spmat('add', Spmat A, Spmat B)``\n",
       "  Create a sparse matrix as the sum of the sparse matrices `A` and `B`.\n",
       "  Adding a real matrix with a complex matrix is possible.\n",
       "\n",
       "* ``SM = Spmat('diag', mat D [, ivec E [, int n [,int m]]])``\n",
       "  Create a diagonal matrix. If `E` is given, `D` might be a matrix and\n",
       "  each column of `E` will contain the sub-diagonal number that will be\n",
       "  filled with the corresponding column of `D`.\n",
       "\n",
       "* ``SM = Spmat('load','hb'|'harwell-boeing'|'mm'|'matrix-market', string filename)``\n",
       "  Read a sparse matrix from an Harwell-Boeing or a Matrix-Market file\n",
       "  .\n",
       "\n",
       "  \n"
      ]
     },
     "metadata": {},
     "output_type": "display_data"
    }
   ],
   "source": [
    "Mcont?"
   ]
  },
  {
   "cell_type": "code",
   "execution_count": 7,
   "metadata": {},
   "outputs": [
    {
     "ename": "RuntimeError",
     "evalue": "(Getfem::InterfaceError) -- getfem caught a bad_alloc exception\n",
     "output_type": "error",
     "traceback": [
      "\u001b[0;31m---------------------------------------------------------------------------\u001b[0m",
      "\u001b[0;31mRuntimeError\u001b[0m                              Traceback (most recent call last)",
      "\u001b[0;32m<ipython-input-7-adfabdb7b471>\u001b[0m in \u001b[0;36m<module>\u001b[0;34m\u001b[0m\n\u001b[1;32m      1\u001b[0m \u001b[0mMcont\u001b[0m \u001b[0;34m=\u001b[0m \u001b[0mgf\u001b[0m\u001b[0;34m.\u001b[0m\u001b[0masm_mass_matrix\u001b[0m\u001b[0;34m(\u001b[0m\u001b[0mmimls\u001b[0m\u001b[0;34m,\u001b[0m \u001b[0mmf_cont\u001b[0m\u001b[0;34m)\u001b[0m\u001b[0;34m\u001b[0m\u001b[0;34m\u001b[0m\u001b[0m\n\u001b[0;32m----> 2\u001b[0;31m \u001b[0mRMcont\u001b[0m \u001b[0;34m=\u001b[0m \u001b[0mnp\u001b[0m\u001b[0;34m.\u001b[0m\u001b[0mlinalg\u001b[0m\u001b[0;34m.\u001b[0m\u001b[0mcholesky\u001b[0m\u001b[0;34m(\u001b[0m\u001b[0mMcont\u001b[0m\u001b[0;34m.\u001b[0m\u001b[0mfull\u001b[0m\u001b[0;34m(\u001b[0m\u001b[0;34m)\u001b[0m\u001b[0;34m)\u001b[0m\u001b[0;34m\u001b[0m\u001b[0;34m\u001b[0m\u001b[0m\n\u001b[0m\u001b[1;32m      3\u001b[0m \u001b[0mMcontls\u001b[0m \u001b[0;34m=\u001b[0m \u001b[0mgf\u001b[0m\u001b[0;34m.\u001b[0m\u001b[0masm_mass_matrix\u001b[0m\u001b[0;34m(\u001b[0m\u001b[0mmimls\u001b[0m\u001b[0;34m,\u001b[0m \u001b[0mmf_ls\u001b[0m\u001b[0;34m)\u001b[0m\u001b[0;34m\u001b[0m\u001b[0;34m\u001b[0m\u001b[0m\n\u001b[1;32m      4\u001b[0m \u001b[0mRMcontls\u001b[0m \u001b[0;34m=\u001b[0m \u001b[0mnp\u001b[0m\u001b[0;34m.\u001b[0m\u001b[0mlinalg\u001b[0m\u001b[0;34m.\u001b[0m\u001b[0mcholesky\u001b[0m\u001b[0;34m(\u001b[0m\u001b[0mMcontls\u001b[0m\u001b[0;34m.\u001b[0m\u001b[0mfull\u001b[0m\u001b[0;34m(\u001b[0m\u001b[0;34m)\u001b[0m\u001b[0;34m)\u001b[0m\u001b[0;34m\u001b[0m\u001b[0;34m\u001b[0m\u001b[0m\n",
      "\u001b[0;32m~/Applications/getfem-5.4/build/lib/python3.6/site-packages/getfem/getfem.py\u001b[0m in \u001b[0;36mfull\u001b[0;34m(self, I, *args)\u001b[0m\n\u001b[1;32m   5573\u001b[0m     \u001b[0mThe\u001b[0m \u001b[0moptional\u001b[0m \u001b[0marguments\u001b[0m\u001b[0;31m \u001b[0m\u001b[0;31m`\u001b[0m\u001b[0mI\u001b[0m\u001b[0;31m`\u001b[0m \u001b[0;32mand\u001b[0m\u001b[0;31m \u001b[0m\u001b[0;31m`\u001b[0m\u001b[0mJ\u001b[0m\u001b[0;31m`\u001b[0m\u001b[0;34m,\u001b[0m \u001b[0mare\u001b[0m \u001b[0mthe\u001b[0m \u001b[0msub\u001b[0m\u001b[0;34m-\u001b[0m\u001b[0mintervals\u001b[0m \u001b[0;32mfor\u001b[0m \u001b[0mthe\u001b[0m\u001b[0;34m\u001b[0m\u001b[0;34m\u001b[0m\u001b[0m\n\u001b[1;32m   5574\u001b[0m     rows and columns that are to be extracted.\"\"\"\n\u001b[0;32m-> 5575\u001b[0;31m     \u001b[0;32mreturn\u001b[0m \u001b[0mself\u001b[0m\u001b[0;34m.\u001b[0m\u001b[0mget\u001b[0m\u001b[0;34m(\u001b[0m\u001b[0;34m\"full\"\u001b[0m\u001b[0;34m,\u001b[0m \u001b[0mI\u001b[0m\u001b[0;34m,\u001b[0m \u001b[0;34m*\u001b[0m\u001b[0margs\u001b[0m\u001b[0;34m)\u001b[0m\u001b[0;34m\u001b[0m\u001b[0;34m\u001b[0m\u001b[0m\n\u001b[0m\u001b[1;32m   5576\u001b[0m \u001b[0;34m\u001b[0m\u001b[0m\n\u001b[1;32m   5577\u001b[0m \u001b[0;34m\u001b[0m\u001b[0m\n",
      "\u001b[0;32m~/Applications/getfem-5.4/build/lib/python3.6/site-packages/getfem/getfem.py\u001b[0m in \u001b[0;36mget\u001b[0;34m(self, *args)\u001b[0m\n\u001b[1;32m   5516\u001b[0m     \u001b[0mgeneric_destructor\u001b[0m\u001b[0;34m(\u001b[0m\u001b[0mself\u001b[0m\u001b[0;34m,\u001b[0m \u001b[0mdestructible\u001b[0m\u001b[0;34m=\u001b[0m\u001b[0;32mTrue\u001b[0m\u001b[0;34m)\u001b[0m\u001b[0;34m\u001b[0m\u001b[0;34m\u001b[0m\u001b[0m\n\u001b[1;32m   5517\u001b[0m   \u001b[0;32mdef\u001b[0m \u001b[0mget\u001b[0m\u001b[0;34m(\u001b[0m\u001b[0mself\u001b[0m\u001b[0;34m,\u001b[0m \u001b[0;34m*\u001b[0m\u001b[0margs\u001b[0m\u001b[0;34m)\u001b[0m\u001b[0;34m:\u001b[0m\u001b[0;34m\u001b[0m\u001b[0;34m\u001b[0m\u001b[0m\n\u001b[0;32m-> 5518\u001b[0;31m     \u001b[0;32mreturn\u001b[0m \u001b[0mgetfem\u001b[0m\u001b[0;34m(\u001b[0m\u001b[0;34m'spmat_get'\u001b[0m\u001b[0;34m,\u001b[0m\u001b[0mself\u001b[0m\u001b[0;34m.\u001b[0m\u001b[0mid\u001b[0m\u001b[0;34m,\u001b[0m \u001b[0;34m*\u001b[0m\u001b[0margs\u001b[0m\u001b[0;34m)\u001b[0m\u001b[0;34m\u001b[0m\u001b[0;34m\u001b[0m\u001b[0m\n\u001b[0m\u001b[1;32m   5519\u001b[0m   \u001b[0;32mdef\u001b[0m \u001b[0m__repr__\u001b[0m\u001b[0;34m(\u001b[0m\u001b[0mself\u001b[0m\u001b[0;34m)\u001b[0m\u001b[0;34m:\u001b[0m\u001b[0;34m\u001b[0m\u001b[0;34m\u001b[0m\u001b[0m\n\u001b[1;32m   5520\u001b[0m     \u001b[0mgetfem\u001b[0m\u001b[0;34m(\u001b[0m\u001b[0;34m'spmat_get'\u001b[0m\u001b[0;34m,\u001b[0m\u001b[0mself\u001b[0m\u001b[0;34m.\u001b[0m\u001b[0mid\u001b[0m\u001b[0;34m,\u001b[0m \u001b[0;34m'display'\u001b[0m\u001b[0;34m)\u001b[0m\u001b[0;34m\u001b[0m\u001b[0;34m\u001b[0m\u001b[0m\n",
      "\u001b[0;31mRuntimeError\u001b[0m: (Getfem::InterfaceError) -- getfem caught a bad_alloc exception\n"
     ]
    }
   ],
   "source": [
    "Mcont = gf.asm_mass_matrix(mimls, mf_cont)\n",
    "RMcont = np.linalg.cholesky(Mcont.full())\n",
    "Mcontls = gf.asm_mass_matrix(mimls, mf_ls)\n",
    "RMcontls = np.linalg.cholesky(Mcontls.full())"
   ]
  },
  {
   "cell_type": "code",
   "execution_count": null,
   "metadata": {},
   "outputs": [],
   "source": [
    "#% Definition of the initial level-set\n",
    "if (initial_holes):\n",
    "    if (N == 2):\n",
    "        ULS = mf_basic.eval('(-0.6-np.sin(np.pi*4*x)*np.cos(np.pi*4*y))/(4*np.pi)', globals(), locals())\n",
    "    else:\n",
    "        ULS = mf_basic.eval('(-0.6-np.sin(np.pi*4*x)*np.cos(np.pi*4*y)*np.cos(np.pi*4*z))/(4*np.pi)', globals(), locals())\n",
    "else:\n",
    "    ULS = mf_basic.eval('x - 2', globals(), locals())"
   ]
  },
  {
   "cell_type": "code",
   "execution_count": null,
   "metadata": {},
   "outputs": [],
   "source": [
    "P = mf_ls.basic_dof_nodes()\n",
    "#% Force on the right part (Neumann condition)\n",
    "if (N == 2):\n",
    "    F = mf_basic.eval('[0, -1.0*(abs(y) < 0.05)]', globals(), locals())\n",
    "else:\n",
    "    F = mf_basic.eval('[0,0,-20*(np.abs(y) < 0.05)*(np.abs(z) < 0.05)]', globals(), locals())"
   ]
  },
  {
   "cell_type": "code",
   "execution_count": 10,
   "metadata": {},
   "outputs": [
    {
     "name": "stdout",
     "output_type": "stream",
     "text": [
      "Adapting the mesh\n",
      "Mesh adapted\n",
      "Integration methods adapted\n"
     ]
    }
   ],
   "source": [
    "ls.set_values(ULS)\n",
    "print('Adapting the mesh')\n",
    "mls.adapt()\n",
    "if N == 2:\n",
    "    mim = gf.MeshIm('levelset',mls,'inside', gf.Integ('IM_TRIANGLE(6)'))\n",
    "else:\n",
    "    mim = gf.MeshIm('levelset',mls,'inside', gf.Integ('IM_TETRAHEDRON(6)'))\n",
    "print('Mesh adapted')\n",
    "mim.set_integ(4)\n",
    "print('Integration methods adapted')\n",
    "mf = gf.MeshFem('partial', mf_basic, range(int(mf_basic.nbdof()/2)))"
   ]
  },
  {
   "cell_type": "code",
   "execution_count": 11,
   "metadata": {},
   "outputs": [
    {
     "data": {
      "text/plain": [
       "4"
      ]
     },
     "execution_count": 11,
     "metadata": {},
     "output_type": "execute_result"
    }
   ],
   "source": [
    "md = gf.Model('real')\n",
    "md.add_fem_variable('u', mf)\n",
    "md.add_initialized_data('mu', [μ])\n",
    "md.add_initialized_data('lambda', [λ])\n",
    "md.add_isotropic_linearized_elasticity_brick(mim, \"u\", \"lambda\", \"mu\")\n",
    "md.add_Dirichlet_condition_with_multipliers(mim, 'u', 1, GAMMAD)\n",
    "md.add_Dirichlet_condition_with_penalization(mim, 'u', 1e9, GAMMAD)\n",
    "md.add_initialized_data('penalty_param', [penalty_param])\n",
    "md.add_mass_brick(mim, 'u', 'penalty_param')\n",
    "md.add_initialized_fem_data(\"Force\", mf_basic, F)\n",
    "md.add_source_term_brick(mim, 'u', 'Force', GAMMAN)"
   ]
  },
  {
   "cell_type": "code",
   "execution_count": 13,
   "metadata": {},
   "outputs": [
    {
     "data": {
      "text/plain": [
       "(2, 6400)"
      ]
     },
     "execution_count": 13,
     "metadata": {},
     "output_type": "execute_result"
    }
   ],
   "source": [
    "P.shape"
   ]
  },
  {
   "cell_type": "code",
   "execution_count": 36,
   "metadata": {},
   "outputs": [
    {
     "name": "stdout",
     "output_type": "stream",
     "text": [
      "solving the direct problem\n",
      "Elastic energy at iteration 0: 0.0007114726442169223\n",
      "Remaining surface of material: 1.9999999999994766\n",
      "Max value of the topological gradient: -26.95313555975898\n",
      "this iteration took 0 minutes\n",
      "Adapting the mesh\n",
      "Mesh adapted\n",
      "Integration methods adapted\n",
      "solving the direct problem\n",
      "Elastic energy at iteration 1: 0.0007114726442169223\n",
      "Remaining surface of material: 1.9999999999994766\n",
      "Max value of the topological gradient: -26.95313555975898\n",
      "this iteration took 0 minutes\n",
      "Adapting the mesh\n",
      "Mesh adapted\n",
      "Integration methods adapted\n",
      "solving the direct problem\n",
      "Elastic energy at iteration 2: 0.0007114726442169223\n",
      "Remaining surface of material: 1.9999999999994766\n",
      "Max value of the topological gradient: -26.95313555975898\n"
     ]
    },
    {
     "ename": "KeyboardInterrupt",
     "evalue": "",
     "output_type": "error",
     "traceback": [
      "\u001b[0;31m---------------------------------------------------------------------------\u001b[0m",
      "\u001b[0;31mKeyboardInterrupt\u001b[0m                         Traceback (most recent call last)",
      "\u001b[0;32m<ipython-input-36-62f218f1fe6a>\u001b[0m in \u001b[0;36m<module>\u001b[0;34m\u001b[0m\n\u001b[1;32m     74\u001b[0m     \u001b[0;31m#cgs(A,b,tol,maxit,M1,M2,x0)\u001b[0m\u001b[0;34m\u001b[0m\u001b[0;34m\u001b[0m\u001b[0;34m\u001b[0m\u001b[0m\n\u001b[1;32m     75\u001b[0m     \u001b[0;31m#scipy.sparse.linalg.cg(A, b, x0=None, tol=1e-05, maxiter=None, M=None, callback=None, atol=None)\u001b[0m\u001b[0;34m\u001b[0m\u001b[0;34m\u001b[0m\u001b[0;34m\u001b[0m\u001b[0m\n\u001b[0;32m---> 76\u001b[0;31m     \u001b[0mVcont\u001b[0m \u001b[0;34m=\u001b[0m \u001b[0mcg\u001b[0m\u001b[0;34m(\u001b[0m\u001b[0mMcontls\u001b[0m\u001b[0;34m.\u001b[0m\u001b[0mfull\u001b[0m\u001b[0;34m(\u001b[0m\u001b[0;34m)\u001b[0m\u001b[0;34m,\u001b[0m \u001b[0mFdisc\u001b[0m\u001b[0;34m,\u001b[0m \u001b[0mtol\u001b[0m\u001b[0;34m=\u001b[0m\u001b[0;36m1e-8\u001b[0m\u001b[0;34m,\u001b[0m \u001b[0mmaxiter\u001b[0m\u001b[0;34m=\u001b[0m\u001b[0;36m1000\u001b[0m\u001b[0;34m,\u001b[0m \u001b[0mM\u001b[0m\u001b[0;34m=\u001b[0m\u001b[0mRMcontls\u001b[0m\u001b[0;34m)\u001b[0m\u001b[0;34m;\u001b[0m\u001b[0;34m\u001b[0m\u001b[0;34m\u001b[0m\u001b[0m\n\u001b[0m\u001b[1;32m     77\u001b[0m     \u001b[0mULS\u001b[0m \u001b[0;34m=\u001b[0m \u001b[0mULS\u001b[0m \u001b[0;34m+\u001b[0m \u001b[0mVcont\u001b[0m\u001b[0;34m[\u001b[0m\u001b[0;36m0\u001b[0m\u001b[0;34m]\u001b[0m \u001b[0;34m*\u001b[0m \u001b[0mlevel_set_rate\u001b[0m\u001b[0;34m\u001b[0m\u001b[0;34m\u001b[0m\u001b[0m\n\u001b[1;32m     78\u001b[0m \u001b[0;34m\u001b[0m\u001b[0m\n",
      "\u001b[0;32m~/Applications/anaconda3/lib/python3.6/site-packages/scipy/sparse/linalg/isolve/iterative.py\u001b[0m in \u001b[0;36mcg\u001b[0;34m(A, b, x0, tol, maxiter, M, callback, atol)\u001b[0m\n",
      "\u001b[0;32m~/Applications/anaconda3/lib/python3.6/site-packages/scipy/_lib/_threadsafety.py\u001b[0m in \u001b[0;36mcaller\u001b[0;34m(func, *a, **kw)\u001b[0m\n\u001b[1;32m     44\u001b[0m         \u001b[0;32mdef\u001b[0m \u001b[0mcaller\u001b[0m\u001b[0;34m(\u001b[0m\u001b[0mfunc\u001b[0m\u001b[0;34m,\u001b[0m \u001b[0;34m*\u001b[0m\u001b[0ma\u001b[0m\u001b[0;34m,\u001b[0m \u001b[0;34m**\u001b[0m\u001b[0mkw\u001b[0m\u001b[0;34m)\u001b[0m\u001b[0;34m:\u001b[0m\u001b[0;34m\u001b[0m\u001b[0;34m\u001b[0m\u001b[0m\n\u001b[1;32m     45\u001b[0m             \u001b[0;32mwith\u001b[0m \u001b[0mself\u001b[0m\u001b[0;34m:\u001b[0m\u001b[0;34m\u001b[0m\u001b[0;34m\u001b[0m\u001b[0m\n\u001b[0;32m---> 46\u001b[0;31m                 \u001b[0;32mreturn\u001b[0m \u001b[0mfunc\u001b[0m\u001b[0;34m(\u001b[0m\u001b[0;34m*\u001b[0m\u001b[0ma\u001b[0m\u001b[0;34m,\u001b[0m \u001b[0;34m**\u001b[0m\u001b[0mkw\u001b[0m\u001b[0;34m)\u001b[0m\u001b[0;34m\u001b[0m\u001b[0;34m\u001b[0m\u001b[0m\n\u001b[0m\u001b[1;32m     47\u001b[0m         \u001b[0;32mreturn\u001b[0m \u001b[0mscipy\u001b[0m\u001b[0;34m.\u001b[0m\u001b[0m_lib\u001b[0m\u001b[0;34m.\u001b[0m\u001b[0mdecorator\u001b[0m\u001b[0;34m.\u001b[0m\u001b[0mdecorate\u001b[0m\u001b[0;34m(\u001b[0m\u001b[0mfunc\u001b[0m\u001b[0;34m,\u001b[0m \u001b[0mcaller\u001b[0m\u001b[0;34m)\u001b[0m\u001b[0;34m\u001b[0m\u001b[0;34m\u001b[0m\u001b[0m\n\u001b[1;32m     48\u001b[0m \u001b[0;34m\u001b[0m\u001b[0m\n",
      "\u001b[0;32m~/Applications/anaconda3/lib/python3.6/site-packages/scipy/sparse/linalg/isolve/iterative.py\u001b[0m in \u001b[0;36mcg\u001b[0;34m(A, b, x0, tol, maxiter, M, callback, atol)\u001b[0m\n\u001b[1;32m    309\u001b[0m             \u001b[0mwork\u001b[0m\u001b[0;34m[\u001b[0m\u001b[0mslice2\u001b[0m\u001b[0;34m]\u001b[0m \u001b[0;34m+=\u001b[0m \u001b[0msclr1\u001b[0m\u001b[0;34m*\u001b[0m\u001b[0mmatvec\u001b[0m\u001b[0;34m(\u001b[0m\u001b[0mwork\u001b[0m\u001b[0;34m[\u001b[0m\u001b[0mslice1\u001b[0m\u001b[0;34m]\u001b[0m\u001b[0;34m)\u001b[0m\u001b[0;34m\u001b[0m\u001b[0;34m\u001b[0m\u001b[0m\n\u001b[1;32m    310\u001b[0m         \u001b[0;32melif\u001b[0m \u001b[0;34m(\u001b[0m\u001b[0mijob\u001b[0m \u001b[0;34m==\u001b[0m \u001b[0;36m2\u001b[0m\u001b[0;34m)\u001b[0m\u001b[0;34m:\u001b[0m\u001b[0;34m\u001b[0m\u001b[0;34m\u001b[0m\u001b[0m\n\u001b[0;32m--> 311\u001b[0;31m             \u001b[0mwork\u001b[0m\u001b[0;34m[\u001b[0m\u001b[0mslice1\u001b[0m\u001b[0;34m]\u001b[0m \u001b[0;34m=\u001b[0m \u001b[0mpsolve\u001b[0m\u001b[0;34m(\u001b[0m\u001b[0mwork\u001b[0m\u001b[0;34m[\u001b[0m\u001b[0mslice2\u001b[0m\u001b[0;34m]\u001b[0m\u001b[0;34m)\u001b[0m\u001b[0;34m\u001b[0m\u001b[0;34m\u001b[0m\u001b[0m\n\u001b[0m\u001b[1;32m    312\u001b[0m         \u001b[0;32melif\u001b[0m \u001b[0;34m(\u001b[0m\u001b[0mijob\u001b[0m \u001b[0;34m==\u001b[0m \u001b[0;36m3\u001b[0m\u001b[0;34m)\u001b[0m\u001b[0;34m:\u001b[0m\u001b[0;34m\u001b[0m\u001b[0;34m\u001b[0m\u001b[0m\n\u001b[1;32m    313\u001b[0m             \u001b[0mwork\u001b[0m\u001b[0;34m[\u001b[0m\u001b[0mslice2\u001b[0m\u001b[0;34m]\u001b[0m \u001b[0;34m*=\u001b[0m \u001b[0msclr2\u001b[0m\u001b[0;34m\u001b[0m\u001b[0;34m\u001b[0m\u001b[0m\n",
      "\u001b[0;32m~/Applications/anaconda3/lib/python3.6/site-packages/scipy/sparse/linalg/interface.py\u001b[0m in \u001b[0;36mmatvec\u001b[0;34m(self, x)\u001b[0m\n\u001b[1;32m    217\u001b[0m             \u001b[0;32mraise\u001b[0m \u001b[0mValueError\u001b[0m\u001b[0;34m(\u001b[0m\u001b[0;34m'dimension mismatch'\u001b[0m\u001b[0;34m)\u001b[0m\u001b[0;34m\u001b[0m\u001b[0;34m\u001b[0m\u001b[0m\n\u001b[1;32m    218\u001b[0m \u001b[0;34m\u001b[0m\u001b[0m\n\u001b[0;32m--> 219\u001b[0;31m         \u001b[0my\u001b[0m \u001b[0;34m=\u001b[0m \u001b[0mself\u001b[0m\u001b[0;34m.\u001b[0m\u001b[0m_matvec\u001b[0m\u001b[0;34m(\u001b[0m\u001b[0mx\u001b[0m\u001b[0;34m)\u001b[0m\u001b[0;34m\u001b[0m\u001b[0;34m\u001b[0m\u001b[0m\n\u001b[0m\u001b[1;32m    220\u001b[0m \u001b[0;34m\u001b[0m\u001b[0m\n\u001b[1;32m    221\u001b[0m         \u001b[0;32mif\u001b[0m \u001b[0misinstance\u001b[0m\u001b[0;34m(\u001b[0m\u001b[0mx\u001b[0m\u001b[0;34m,\u001b[0m \u001b[0mnp\u001b[0m\u001b[0;34m.\u001b[0m\u001b[0mmatrix\u001b[0m\u001b[0;34m)\u001b[0m\u001b[0;34m:\u001b[0m\u001b[0;34m\u001b[0m\u001b[0;34m\u001b[0m\u001b[0m\n",
      "\u001b[0;32m~/Applications/anaconda3/lib/python3.6/site-packages/scipy/sparse/linalg/interface.py\u001b[0m in \u001b[0;36m_matvec\u001b[0;34m(self, x)\u001b[0m\n\u001b[1;32m    184\u001b[0m         \u001b[0mwill\u001b[0m \u001b[0mdefine\u001b[0m \u001b[0mmatrix\u001b[0m\u001b[0;34m-\u001b[0m\u001b[0mvector\u001b[0m \u001b[0mmultiplication\u001b[0m \u001b[0;32mas\u001b[0m \u001b[0mwell\u001b[0m\u001b[0;34m.\u001b[0m\u001b[0;34m\u001b[0m\u001b[0;34m\u001b[0m\u001b[0m\n\u001b[1;32m    185\u001b[0m         \"\"\"\n\u001b[0;32m--> 186\u001b[0;31m         \u001b[0;32mreturn\u001b[0m \u001b[0mself\u001b[0m\u001b[0;34m.\u001b[0m\u001b[0mmatmat\u001b[0m\u001b[0;34m(\u001b[0m\u001b[0mx\u001b[0m\u001b[0;34m.\u001b[0m\u001b[0mreshape\u001b[0m\u001b[0;34m(\u001b[0m\u001b[0;34m-\u001b[0m\u001b[0;36m1\u001b[0m\u001b[0;34m,\u001b[0m \u001b[0;36m1\u001b[0m\u001b[0;34m)\u001b[0m\u001b[0;34m)\u001b[0m\u001b[0;34m\u001b[0m\u001b[0;34m\u001b[0m\u001b[0m\n\u001b[0m\u001b[1;32m    187\u001b[0m \u001b[0;34m\u001b[0m\u001b[0m\n\u001b[1;32m    188\u001b[0m     \u001b[0;32mdef\u001b[0m \u001b[0mmatvec\u001b[0m\u001b[0;34m(\u001b[0m\u001b[0mself\u001b[0m\u001b[0;34m,\u001b[0m \u001b[0mx\u001b[0m\u001b[0;34m)\u001b[0m\u001b[0;34m:\u001b[0m\u001b[0;34m\u001b[0m\u001b[0;34m\u001b[0m\u001b[0m\n",
      "\u001b[0;32m~/Applications/anaconda3/lib/python3.6/site-packages/scipy/sparse/linalg/interface.py\u001b[0m in \u001b[0;36mmatmat\u001b[0;34m(self, X)\u001b[0m\n\u001b[1;32m    324\u001b[0m                              % (self.shape, X.shape))\n\u001b[1;32m    325\u001b[0m \u001b[0;34m\u001b[0m\u001b[0m\n\u001b[0;32m--> 326\u001b[0;31m         \u001b[0mY\u001b[0m \u001b[0;34m=\u001b[0m \u001b[0mself\u001b[0m\u001b[0;34m.\u001b[0m\u001b[0m_matmat\u001b[0m\u001b[0;34m(\u001b[0m\u001b[0mX\u001b[0m\u001b[0;34m)\u001b[0m\u001b[0;34m\u001b[0m\u001b[0;34m\u001b[0m\u001b[0m\n\u001b[0m\u001b[1;32m    327\u001b[0m \u001b[0;34m\u001b[0m\u001b[0m\n\u001b[1;32m    328\u001b[0m         \u001b[0;32mif\u001b[0m \u001b[0misinstance\u001b[0m\u001b[0;34m(\u001b[0m\u001b[0mY\u001b[0m\u001b[0;34m,\u001b[0m \u001b[0mnp\u001b[0m\u001b[0;34m.\u001b[0m\u001b[0mmatrix\u001b[0m\u001b[0;34m)\u001b[0m\u001b[0;34m:\u001b[0m\u001b[0;34m\u001b[0m\u001b[0;34m\u001b[0m\u001b[0m\n",
      "\u001b[0;32m~/Applications/anaconda3/lib/python3.6/site-packages/scipy/sparse/linalg/interface.py\u001b[0m in \u001b[0;36m_matmat\u001b[0;34m(self, X)\u001b[0m\n\u001b[1;32m    608\u001b[0m \u001b[0;34m\u001b[0m\u001b[0m\n\u001b[1;32m    609\u001b[0m     \u001b[0;32mdef\u001b[0m \u001b[0m_matmat\u001b[0m\u001b[0;34m(\u001b[0m\u001b[0mself\u001b[0m\u001b[0;34m,\u001b[0m \u001b[0mX\u001b[0m\u001b[0;34m)\u001b[0m\u001b[0;34m:\u001b[0m\u001b[0;34m\u001b[0m\u001b[0;34m\u001b[0m\u001b[0m\n\u001b[0;32m--> 610\u001b[0;31m         \u001b[0;32mreturn\u001b[0m \u001b[0mself\u001b[0m\u001b[0;34m.\u001b[0m\u001b[0mA\u001b[0m\u001b[0;34m.\u001b[0m\u001b[0mdot\u001b[0m\u001b[0;34m(\u001b[0m\u001b[0mX\u001b[0m\u001b[0;34m)\u001b[0m\u001b[0;34m\u001b[0m\u001b[0;34m\u001b[0m\u001b[0m\n\u001b[0m\u001b[1;32m    611\u001b[0m \u001b[0;34m\u001b[0m\u001b[0m\n\u001b[1;32m    612\u001b[0m     \u001b[0;32mdef\u001b[0m \u001b[0m_adjoint\u001b[0m\u001b[0;34m(\u001b[0m\u001b[0mself\u001b[0m\u001b[0;34m)\u001b[0m\u001b[0;34m:\u001b[0m\u001b[0;34m\u001b[0m\u001b[0;34m\u001b[0m\u001b[0m\n",
      "\u001b[0;31mKeyboardInterrupt\u001b[0m: "
     ]
    }
   ],
   "source": [
    "for niter in range(nbiter):\n",
    "    start = time.time()\n",
    "    if niter > 0:\n",
    "        ls.set_values(ULS)\n",
    "        print('Adapting the mesh')\n",
    "        mls.adapt()\n",
    "        print('Mesh adapted')\n",
    "        mim.adapt()\n",
    "        print('Integration methods adapted')\n",
    "    Mcont = gf.asm_mass_matrix(mimls, mf_cont)\n",
    "    #D = np.abs(np.diag(np.diag(Mcont.full())))\n",
    "    #ind = np.argwhere(D > ((1/NY)**N)*1e-7)\n",
    "    D = np.abs(Mcont.diag().T[0])\n",
    "    ind = np.argwhere(D > ((1/NY)**N)*1e-7)\n",
    "    mf = gf.MeshFem('partial', mf_basic, ind)\n",
    "    \n",
    "    #% Solving the direct problem\n",
    "    print('solving the direct problem')\n",
    "    \n",
    "    md.solve('max_res', 1e-7)\n",
    "    U = md.variable(\"u\")\n",
    "    nbd = mf_ls.nbdof()\n",
    "    \n",
    "    #% Computation of indicators (computation of K could be avoided)\n",
    "    K = gf.asm('linear elasticity', mim, mf, mf_ls, λ*np.ones((1, nbd)), μ*np.ones((1, nbd)));\n",
    "    print(f'Elastic energy at iteration {niter}: {np.dot(U,(K*U))}')\n",
    "    S = gf.asm('volumic','V()+=comp()',mim);\n",
    "    if (N == 2):\n",
    "        print(f'Remaining surface of material: {S}')\n",
    "    else:\n",
    "        print(f'Remaining volume of material: {S}')\n",
    "        \n",
    "    DU = gf.compute(mf, U, 'gradient', mf_g);\n",
    "    EPSU = DU + DU[[1,0],:]\n",
    "    \n",
    "    #% Computation of the shape derivative\n",
    "    if (N == 2):\n",
    "        GF1 = (DU[0][0] + DU[1][1])**2*λ + 2*μ*np.sum(np.sum(EPSU, axis=0), axis=0);\n",
    "    else:\n",
    "        GF1 = (DU[0][0] + DU[1][1] + DU[2][2])**2*λ + 2*μ*np.sum(np.sum(EPSU, axis=0), axis=0);\n",
    "    GF = GF1.reshape((1, len(GF1))) - threshold_shape;\n",
    "    \n",
    "    #% computation of the topological gradient\n",
    "    if (N == 2):\n",
    "        GT = -np.pi*( (λ+2*μ) / (2*μ*(λ+μ)) * (4*μ*GF1 + 2*(λ-μ)*(λ+μ)*(DU[0][0] + DU[1][1])**2));\n",
    "    else:\n",
    "        GT = -np.pi*( (λ+2*μ) / (μ*(9*λ+14*μ)) * (20*μ*GF1 + 2*(3*λ-2*μ)*(λ+μ)*(DU[0][0] + DU[1][1] + DU[2][2])**2));\n",
    "    GT = GT.reshape((1, len(GT))) + threshold_topo;\n",
    "    \n",
    "    M = gf.asm_mass_matrix(mim, mf_g)\n",
    "    D = np.abs(M.diag().T[0])\n",
    "    maxD = np.max(D);\n",
    "    ind = np.argwhere(D < maxD/40)\n",
    "    mf = gf.MeshFem('partial', mf_basic, ind)\n",
    "    GF[ind] = 0.0\n",
    "    GF = np.clip(GF, None, 2*threshold_shape);\n",
    "    ind = np.argwhere(D < maxD/1.2)\n",
    "    GT[ind] = -20.0\n",
    "    \n",
    "    #% Drawing the gradients\n",
    "    \n",
    "    i   = GT.argmin()\n",
    "    val = GT.min()\n",
    "    print(f'Max value of the topological gradient: {val}')\n",
    "    if (val > 0):\n",
    "        point = mf_g.basic_dof_nodes(i)\n",
    "        if (N == 2) :\n",
    "            print(f'Making a new hole whose center is ({point[0]}, {point[1]})')\n",
    "            ULS = np.max(ULS, (hole_radius**2 - (P[0,:] - point[0])**2 - (P[1,:] - point[1])**2)/(2*hole_radius))\n",
    "        else:\n",
    "            print(f'Making a new hole whose center is ({point[0]}, {point[1]}, {point[2]})')\n",
    "            ULS = np.max(ULS, (hole_radius**2 - (P[0,:] - point[0])**2 - (P[1,:] - point[1])**2 - P[2,:] - point[2]**2)/(2*hole_radius))\n",
    "    Fdisc = gf.asm('volumic source', mimls, mf_ls, mf_g, GF);\n",
    "    #cgs(A,b,tol,maxit,M1,M2,x0)\n",
    "    #scipy.sparse.linalg.cg(A, b, x0=None, tol=1e-05, maxiter=None, M=None, callback=None, atol=None)\n",
    "    Vcont = cg(Mcontls.full(), Fdisc, tol=1e-8, maxiter=1000, M=RMcontls);\n",
    "    ULS = ULS + Vcont[0] * level_set_rate\n",
    "    \n",
    "    #% Re-initialization of the level-set\n",
    "    dt = reinitialisation_time\n",
    "    NT = 10\n",
    "    ddt = dt / NT\n",
    "    ULS0 = ULS\n",
    "    \n",
    "    for t in np.arange(ddt,ddt,dt):\n",
    "        DLS = gf.compute(mf_ls, ULS, 'gradient', mf_g);\n",
    "        Fdisc = gf.asm('volumic source', mimls, mf_cont, mf_g, DLS);\n",
    "        DLScont = cg(Mcont.full(), Fdisc, tol=1e-8, maxiter=1000, M=RMcont)\n",
    "        NORMDLS = np.sqrt(np.sum(np.reshape(DLScont, [N, len(DLScont[0])/N])**2,1))+1e-12;\n",
    "        SULS = np.sign(ULS0) / NORMDLS;\n",
    "        \n",
    "        if (N == 2):\n",
    "            W = DLScont*np.reshape([SULS, SULS], [N*len(SULS[1]), 1]);\n",
    "        else:\n",
    "            W = DLScont*np.reshape([SULS, SULS, SULS], [N*len(SULS[1]), 1]);\n",
    "            \n",
    "        gf.compute(mf_ls, ULS, 'convect', mf_cont, W, ddt, 1, 'unchanged');\n",
    "        ULS = ULS + ddt * np.sign(ULS0);\n",
    "    t = time.time() - start\n",
    "    print(f'this iteration took {int(t/60)} minutes');"
   ]
  },
  {
   "cell_type": "code",
   "execution_count": 37,
   "metadata": {},
   "outputs": [],
   "source": [
    "import matplotlib.pyplot as plt"
   ]
  },
  {
   "cell_type": "code",
   "execution_count": 41,
   "metadata": {},
   "outputs": [
    {
     "data": {
      "text/plain": [
       "<matplotlib.collections.PathCollection at 0x7fcfe085ccc0>"
      ]
     },
     "execution_count": 41,
     "metadata": {},
     "output_type": "execute_result"
    },
    {
     "data": {
      "image/png": "[encoded data removed]",
      "text/plain": [
       "<Figure size 432x288 with 1 Axes>"
      ]
     },
     "metadata": {
      "needs_background": "light"
     },
     "output_type": "display_data"
    }
   ],
   "source": [
    "plt.scatter(range(len(ULS)),ULS)"
   ]
  },
  {
   "cell_type": "code",
   "execution_count": 13,
   "metadata": {},
   "outputs": [
    {
     "data": {
      "text/plain": [
       "array([ 1,  5,  8, 10])"
      ]
     },
     "execution_count": 13,
     "metadata": {},
     "output_type": "execute_result"
    }
   ],
   "source": [
    "a = np.arange(0,100)\n",
    "b = [1,5,8,10]\n",
    "a[b]"
   ]
  },
  {
   "cell_type": "code",
   "execution_count": 22,
   "metadata": {},
   "outputs": [
    {
     "data": {
      "text/plain": [
       "array([[2.13640976e-04, 2.67051220e-05, 2.67051220e-05, ...,\n",
       "        0.00000000e+00, 0.00000000e+00, 0.00000000e+00],\n",
       "       [2.67051220e-05, 5.34102441e-05, 1.33525610e-05, ...,\n",
       "        0.00000000e+00, 0.00000000e+00, 0.00000000e+00],\n",
       "       [2.67051220e-05, 1.33525610e-05, 5.34102441e-05, ...,\n",
       "        0.00000000e+00, 0.00000000e+00, 0.00000000e+00],\n",
       "       ...,\n",
       "       [0.00000000e+00, 0.00000000e+00, 0.00000000e+00, ...,\n",
       "        1.06820488e-04, 1.33525610e-05, 0.00000000e+00],\n",
       "       [0.00000000e+00, 0.00000000e+00, 0.00000000e+00, ...,\n",
       "        1.33525610e-05, 5.34102441e-05, 1.33525610e-05],\n",
       "       [0.00000000e+00, 0.00000000e+00, 0.00000000e+00, ...,\n",
       "        0.00000000e+00, 1.33525610e-05, 5.34102441e-05]])"
      ]
     },
     "execution_count": 22,
     "metadata": {},
     "output_type": "execute_result"
    }
   ],
   "source": [
    "Mcontls.full()"
   ]
  },
  {
   "cell_type": "code",
   "execution_count": 62,
   "metadata": {},
   "outputs": [
    {
     "data": {
      "text/plain": [
       "0.00021364097633926158"
      ]
     },
     "execution_count": 62,
     "metadata": {},
     "output_type": "execute_result"
    }
   ],
   "source": [
    "np.max(D)"
   ]
  },
  {
   "cell_type": "code",
   "execution_count": null,
   "metadata": {},
   "outputs": [],
   "source": [
    "GF = reshape(GF1, 1, size(GF1, 3)) - threshold_shape;"
   ]
  },
  {
   "cell_type": "code",
   "execution_count": 50,
   "metadata": {},
   "outputs": [
    {
     "data": {
      "text/plain": [
       "(2,)"
      ]
     },
     "execution_count": 50,
     "metadata": {},
     "output_type": "execute_result"
    }
   ],
   "source": [
    "np.sum(np.sum(EPSU, axis=0), axis=1).shape"
   ]
  },
  {
   "cell_type": "code",
   "execution_count": 60,
   "metadata": {},
   "outputs": [
    {
     "data": {
      "text/plain": [
       "array([[   0,    0],\n",
       "       [   1,    1],\n",
       "       [   2,    2],\n",
       "       ...,\n",
       "       [6397, 6397],\n",
       "       [6398, 6398],\n",
       "       [6399, 6399]])"
      ]
     },
     "execution_count": 60,
     "metadata": {},
     "output_type": "execute_result"
    }
   ],
   "source": [
    "np.argwhere(np.diag(np.diag(Mcont.full()))>1e-7)"
   ]
  },
  {
   "cell_type": "code",
   "execution_count": null,
   "metadata": {},
   "outputs": [],
   "source": []
  },
  {
   "cell_type": "code",
   "execution_count": null,
   "metadata": {},
   "outputs": [],
   "source": [
    "pidright = find((abs(pts(1, :)-1.0) < 1E-7));\n",
    "fidright = gf_mesh_get(m, 'faces from pid', pidright);\n",
    "normals = gf_mesh_get(m, 'normal of faces', fidright);\n",
    "fidright=fidright(:,find(abs(normals(1, :)-1) < 1E-3));\n",
    "GAMMAN = 3;\n",
    "gf_mesh_set(m, 'region', GAMMAN, fidright);"
   ]
  },
  {
   "cell_type": "code",
   "execution_count": 17,
   "metadata": {},
   "outputs": [
    {
     "ename": "TypeError",
     "evalue": "compress() missing 1 required positional argument: 'a'",
     "output_type": "error",
     "traceback": [
      "\u001b[0;31m---------------------------------------------------------------------------\u001b[0m",
      "\u001b[0;31mTypeError\u001b[0m                                 Traceback (most recent call last)",
      "\u001b[0;32m<ipython-input-17-05ebbc37e58e>\u001b[0m in \u001b[0;36m<module>\u001b[0;34m\u001b[0m\n\u001b[0;32m----> 1\u001b[0;31m \u001b[0mnp\u001b[0m\u001b[0;34m.\u001b[0m\u001b[0mcompress\u001b[0m\u001b[0;34m(\u001b[0m\u001b[0;34m(\u001b[0m\u001b[0mabs\u001b[0m\u001b[0;34m(\u001b[0m\u001b[0mpts\u001b[0m\u001b[0;34m[\u001b[0m\u001b[0;36m0\u001b[0m\u001b[0;34m,\u001b[0m\u001b[0;34m:\u001b[0m\u001b[0;34m]\u001b[0m\u001b[0;34m+\u001b[0m\u001b[0;36m1.0\u001b[0m\u001b[0;34m)\u001b[0m\u001b[0;34m<\u001b[0m\u001b[0;36m1e-3\u001b[0m\u001b[0;34m)\u001b[0m\u001b[0;34m)\u001b[0m\u001b[0;34m\u001b[0m\u001b[0;34m\u001b[0m\u001b[0m\n\u001b[0m",
      "\u001b[0;31mTypeError\u001b[0m: compress() missing 1 required positional argument: 'a'"
     ]
    }
   ],
   "source": [
    "np.compress(())"
   ]
  },
  {
   "cell_type": "code",
   "execution_count": 23,
   "metadata": {},
   "outputs": [
    {
     "ename": "IndexError",
     "evalue": "boolean index did not match indexed array along dimension 0; dimension is 2 but corresponding boolean dimension is 79",
     "output_type": "error",
     "traceback": [
      "\u001b[0;31m---------------------------------------------------------------------------\u001b[0m",
      "\u001b[0;31mIndexError\u001b[0m                                Traceback (most recent call last)",
      "\u001b[0;32m<ipython-input-23-98045297f4b7>\u001b[0m in \u001b[0;36m<module>\u001b[0;34m\u001b[0m\n\u001b[0;32m----> 1\u001b[0;31m \u001b[0mfidleft\u001b[0m\u001b[0;34m[\u001b[0m\u001b[0mabs\u001b[0m\u001b[0;34m(\u001b[0m\u001b[0mnormals\u001b[0m\u001b[0;34m[\u001b[0m\u001b[0;36m0\u001b[0m\u001b[0;34m,\u001b[0m\u001b[0;34m:\u001b[0m\u001b[0;34m]\u001b[0m\u001b[0;34m+\u001b[0m\u001b[0;36m1.0\u001b[0m\u001b[0;34m)\u001b[0m\u001b[0;34m<\u001b[0m\u001b[0;36m1e-3\u001b[0m\u001b[0;34m]\u001b[0m\u001b[0;34m\u001b[0m\u001b[0;34m\u001b[0m\u001b[0m\n\u001b[0m",
      "\u001b[0;31mIndexError\u001b[0m: boolean index did not match indexed array along dimension 0; dimension is 2 but corresponding boolean dimension is 79"
     ]
    }
   ],
   "source": [
    "fidleft[]"
   ]
  },
  {
   "cell_type": "code",
   "execution_count": 20,
   "metadata": {},
   "outputs": [
    {
     "data": {
      "text/plain": [
       "(2, 79)"
      ]
     },
     "execution_count": 20,
     "metadata": {},
     "output_type": "execute_result"
    }
   ],
   "source": [
    "fidleft.shape"
   ]
  },
  {
   "cell_type": "code",
   "execution_count": 25,
   "metadata": {},
   "outputs": [
    {
     "data": {
      "text/plain": [
       "(79,)"
      ]
     },
     "execution_count": 25,
     "metadata": {},
     "output_type": "execute_result"
    }
   ],
   "source": [
    "a = abs(normals[0,:]+1.0)<1e-3\n",
    "a.shape"
   ]
  },
  {
   "cell_type": "code",
   "execution_count": 24,
   "metadata": {},
   "outputs": [
    {
     "data": {
      "text/plain": [
       "array([ True,  True,  True,  True,  True,  True,  True,  True,  True,\n",
       "        True,  True,  True,  True,  True,  True,  True,  True,  True,\n",
       "        True,  True,  True,  True,  True,  True,  True,  True,  True,\n",
       "        True,  True,  True,  True,  True,  True,  True,  True,  True,\n",
       "        True,  True,  True,  True,  True,  True,  True,  True,  True,\n",
       "        True,  True,  True,  True,  True,  True,  True,  True,  True,\n",
       "        True,  True,  True,  True,  True,  True,  True,  True,  True,\n",
       "        True,  True,  True,  True,  True,  True,  True,  True,  True,\n",
       "        True,  True,  True,  True,  True,  True,  True])"
      ]
     },
     "execution_count": 24,
     "metadata": {},
     "output_type": "execute_result"
    }
   ],
   "source": [
    "abs(normals[0,:]+1.0)<1e-3"
   ]
  },
  {
   "cell_type": "code",
   "execution_count": null,
   "metadata": {},
   "outputs": [],
   "source": []
  }
 ],
 "metadata": {
  "kernelspec": {
   "display_name": "Python 3",
   "language": "python",
   "name": "python3"
  },
  "language_info": {
   "codemirror_mode": {
    "name": "ipython",
    "version": 3
   },
   "file_extension": ".py",
   "mimetype": "text/x-python",
   "name": "python",
   "nbconvert_exporter": "python",
   "pygments_lexer": "ipython3",
   "version": "3.6.9"
  }
 },
 "nbformat": 4,
 "nbformat_minor": 4
}
